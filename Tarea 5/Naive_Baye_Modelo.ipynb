{
  "cells": [
    {
      "cell_type": "code",
      "execution_count": 1,
      "id": "ee9789ae",
      "metadata": {
        "id": "ee9789ae"
      },
      "outputs": [],
      "source": [
        "import numpy as np\n",
        "import pandas as pd\n",
        "from sklearn.naive_bayes import GaussianNB\n",
        "from sklearn.preprocessing import LabelEncoder\n",
        "from sklearn.model_selection import train_test_split\n",
        "from sklearn import metrics\n",
        "import seaborn as sns\n",
        "import matplotlib.pyplot as plt"
      ]
    },
    {
      "cell_type": "code",
      "source": [
        "# Cargar el conjunto de datos\n",
        "df = pd.read_csv(\"covid.csv\")"
      ],
      "metadata": {
        "id": "xpGjVQV15Y9d"
      },
      "id": "xpGjVQV15Y9d",
      "execution_count": 5,
      "outputs": []
    },
    {
      "cell_type": "code",
      "execution_count": 6,
      "id": "70960fbc",
      "metadata": {
        "id": "70960fbc"
      },
      "outputs": [],
      "source": [
        "# Eliminar columnas innecesarias\n",
        "columns_to_drop = ['id', 'patient_type', 'entry_date', 'date_symptoms', 'date_died', 'other_disease', 'icu']\n",
        "df.drop(columns_to_drop, axis=1, inplace=True)"
      ]
    },
    {
      "cell_type": "code",
      "execution_count": 7,
      "id": "2be6b798",
      "metadata": {
        "id": "2be6b798"
      },
      "outputs": [],
      "source": [
        "# Filtrar filas con valores de 98 y 99 en columnas específicas\n",
        "filter_conditions = (df['covid_res'] != 3) & (df['contact_other_covid'] != 99) & (df['tobacco'] != 98) & (df['obesity'] != 98) & (df['copd'] != 98) & (df['diabetes'] != 98) & (df['asthma'] != 98) & (df['inmsupr'] != 98) & (df['hypertension'] != 98) & (df['cardiovascular'] != 98) & (df['renal_chronic'] != 98) & (df['intubed'] != 98) & (df['pregnancy'] != 98) & (df['pneumonia'] != 98)\n",
        "df = df[filter_conditions]"
      ]
    },
    {
      "cell_type": "code",
      "execution_count": 8,
      "id": "b67e7209",
      "metadata": {
        "id": "b67e7209"
      },
      "outputs": [],
      "source": [
        "# Asignar variables independientes y dependientes\n",
        "X = df.drop('covid_res', axis=1)\n",
        "y = df['covid_res']"
      ]
    },
    {
      "cell_type": "code",
      "execution_count": 9,
      "id": "50f40729",
      "metadata": {
        "id": "50f40729"
      },
      "outputs": [],
      "source": [
        "# Dividir los datos en conjuntos de entrenamiento y prueba\n",
        "X_train, X_test, y_train, y_test = train_test_split(X, y, test_size=0.3, random_state=42)"
      ]
    },
    {
      "cell_type": "code",
      "execution_count": 10,
      "id": "4f0464a3",
      "metadata": {
        "id": "4f0464a3",
        "colab": {
          "base_uri": "https://localhost:8080/",
          "height": 74
        },
        "outputId": "bdf14baa-ee88-45c1-db5b-611425a149a4"
      },
      "outputs": [
        {
          "output_type": "execute_result",
          "data": {
            "text/plain": [
              "GaussianNB()"
            ],
            "text/html": [
              "<style>#sk-container-id-1 {color: black;background-color: white;}#sk-container-id-1 pre{padding: 0;}#sk-container-id-1 div.sk-toggleable {background-color: white;}#sk-container-id-1 label.sk-toggleable__label {cursor: pointer;display: block;width: 100%;margin-bottom: 0;padding: 0.3em;box-sizing: border-box;text-align: center;}#sk-container-id-1 label.sk-toggleable__label-arrow:before {content: \"▸\";float: left;margin-right: 0.25em;color: #696969;}#sk-container-id-1 label.sk-toggleable__label-arrow:hover:before {color: black;}#sk-container-id-1 div.sk-estimator:hover label.sk-toggleable__label-arrow:before {color: black;}#sk-container-id-1 div.sk-toggleable__content {max-height: 0;max-width: 0;overflow: hidden;text-align: left;background-color: #f0f8ff;}#sk-container-id-1 div.sk-toggleable__content pre {margin: 0.2em;color: black;border-radius: 0.25em;background-color: #f0f8ff;}#sk-container-id-1 input.sk-toggleable__control:checked~div.sk-toggleable__content {max-height: 200px;max-width: 100%;overflow: auto;}#sk-container-id-1 input.sk-toggleable__control:checked~label.sk-toggleable__label-arrow:before {content: \"▾\";}#sk-container-id-1 div.sk-estimator input.sk-toggleable__control:checked~label.sk-toggleable__label {background-color: #d4ebff;}#sk-container-id-1 div.sk-label input.sk-toggleable__control:checked~label.sk-toggleable__label {background-color: #d4ebff;}#sk-container-id-1 input.sk-hidden--visually {border: 0;clip: rect(1px 1px 1px 1px);clip: rect(1px, 1px, 1px, 1px);height: 1px;margin: -1px;overflow: hidden;padding: 0;position: absolute;width: 1px;}#sk-container-id-1 div.sk-estimator {font-family: monospace;background-color: #f0f8ff;border: 1px dotted black;border-radius: 0.25em;box-sizing: border-box;margin-bottom: 0.5em;}#sk-container-id-1 div.sk-estimator:hover {background-color: #d4ebff;}#sk-container-id-1 div.sk-parallel-item::after {content: \"\";width: 100%;border-bottom: 1px solid gray;flex-grow: 1;}#sk-container-id-1 div.sk-label:hover label.sk-toggleable__label {background-color: #d4ebff;}#sk-container-id-1 div.sk-serial::before {content: \"\";position: absolute;border-left: 1px solid gray;box-sizing: border-box;top: 0;bottom: 0;left: 50%;z-index: 0;}#sk-container-id-1 div.sk-serial {display: flex;flex-direction: column;align-items: center;background-color: white;padding-right: 0.2em;padding-left: 0.2em;position: relative;}#sk-container-id-1 div.sk-item {position: relative;z-index: 1;}#sk-container-id-1 div.sk-parallel {display: flex;align-items: stretch;justify-content: center;background-color: white;position: relative;}#sk-container-id-1 div.sk-item::before, #sk-container-id-1 div.sk-parallel-item::before {content: \"\";position: absolute;border-left: 1px solid gray;box-sizing: border-box;top: 0;bottom: 0;left: 50%;z-index: -1;}#sk-container-id-1 div.sk-parallel-item {display: flex;flex-direction: column;z-index: 1;position: relative;background-color: white;}#sk-container-id-1 div.sk-parallel-item:first-child::after {align-self: flex-end;width: 50%;}#sk-container-id-1 div.sk-parallel-item:last-child::after {align-self: flex-start;width: 50%;}#sk-container-id-1 div.sk-parallel-item:only-child::after {width: 0;}#sk-container-id-1 div.sk-dashed-wrapped {border: 1px dashed gray;margin: 0 0.4em 0.5em 0.4em;box-sizing: border-box;padding-bottom: 0.4em;background-color: white;}#sk-container-id-1 div.sk-label label {font-family: monospace;font-weight: bold;display: inline-block;line-height: 1.2em;}#sk-container-id-1 div.sk-label-container {text-align: center;}#sk-container-id-1 div.sk-container {/* jupyter's `normalize.less` sets `[hidden] { display: none; }` but bootstrap.min.css set `[hidden] { display: none !important; }` so we also need the `!important` here to be able to override the default hidden behavior on the sphinx rendered scikit-learn.org. See: https://github.com/scikit-learn/scikit-learn/issues/21755 */display: inline-block !important;position: relative;}#sk-container-id-1 div.sk-text-repr-fallback {display: none;}</style><div id=\"sk-container-id-1\" class=\"sk-top-container\"><div class=\"sk-text-repr-fallback\"><pre>GaussianNB()</pre><b>In a Jupyter environment, please rerun this cell to show the HTML representation or trust the notebook. <br />On GitHub, the HTML representation is unable to render, please try loading this page with nbviewer.org.</b></div><div class=\"sk-container\" hidden><div class=\"sk-item\"><div class=\"sk-estimator sk-toggleable\"><input class=\"sk-toggleable__control sk-hidden--visually\" id=\"sk-estimator-id-1\" type=\"checkbox\" checked><label for=\"sk-estimator-id-1\" class=\"sk-toggleable__label sk-toggleable__label-arrow\">GaussianNB</label><div class=\"sk-toggleable__content\"><pre>GaussianNB()</pre></div></div></div></div></div>"
            ]
          },
          "metadata": {},
          "execution_count": 10
        }
      ],
      "source": [
        "# Entrenar el modelo Naive Bayes\n",
        "naive_bayes = GaussianNB()\n",
        "naive_bayes.fit(X_train, y_train)"
      ]
    },
    {
      "cell_type": "code",
      "execution_count": 11,
      "id": "166a6cd3",
      "metadata": {
        "id": "166a6cd3"
      },
      "outputs": [],
      "source": [
        "# Obtener las predicciones en el conjunto de prueba\n",
        "y_pred = naive_bayes.predict(X_test)"
      ]
    },
    {
      "cell_type": "code",
      "execution_count": 12,
      "id": "af0e462a",
      "metadata": {
        "id": "af0e462a",
        "colab": {
          "base_uri": "https://localhost:8080/"
        },
        "outputId": "52ea750c-b500-4342-808a-3b65ea352234"
      },
      "outputs": [
        {
          "output_type": "stream",
          "name": "stdout",
          "text": [
            "La precisión del modelo es: 62.54% \n"
          ]
        }
      ],
      "source": [
        "# Evaluar el desempeño del modelo\n",
        "accuracy = metrics.accuracy_score(y_test, y_pred)\n",
        "print(\"La precisión del modelo es: {:.2f}% \".format(accuracy * 100))"
      ]
    },
    {
      "cell_type": "code",
      "execution_count": 13,
      "id": "ee9a3ae2",
      "metadata": {
        "id": "ee9a3ae2"
      },
      "outputs": [],
      "source": [
        "# Crear la matriz de confusión\n",
        "cm = metrics.confusion_matrix(y_test, y_pred)"
      ]
    },
    {
      "cell_type": "code",
      "execution_count": 14,
      "id": "4560cdf0",
      "metadata": {
        "id": "4560cdf0",
        "colab": {
          "base_uri": "https://localhost:8080/",
          "height": 449
        },
        "outputId": "16db2c17-909a-4d63-8c19-cf470107a5bf"
      },
      "outputs": [
        {
          "output_type": "display_data",
          "data": {
            "text/plain": [
              "<Figure size 640x480 with 2 Axes>"
            ],
            "image/png": "[encoded data removed]"
          },
          "metadata": {}
        }
      ],
      "source": [
        "# Graficar la matriz de confusión\n",
        "sns.heatmap(cm, annot=True, fmt='g')\n",
        "plt.xlabel('Predicted')\n",
        "plt.ylabel('Actual')\n",
        "plt.show()"
      ]
    },
    {
      "cell_type": "code",
      "execution_count": 15,
      "id": "7c8e70e4",
      "metadata": {
        "id": "7c8e70e4"
      },
      "outputs": [],
      "source": [
        "# Crear una fila con los datos del usuario\n",
        "user_data = pd.DataFrame({\n",
        "    'sex': [2],\n",
        "    'intubed': [2],\n",
        "    'pneumonia': [2],\n",
        "    'age': [35],\n",
        "    'pregnancy': [2],\n",
        "    'diabetes': [2],\n",
        "    'copd': [2],\n",
        "    'asthma': [2],\n",
        "    'inmsupr': [2],\n",
        "    'hypertension': [2],\n",
        "    'cardiovascular': [2],\n",
        "    'obesity': [2],\n",
        "    'renal_chronic': [2],\n",
        "    'tobacco': [2],\n",
        "    'contact_other_covid': [2]\n",
        "})"
      ]
    },
    {
      "cell_type": "code",
      "execution_count": 16,
      "id": "775e6480",
      "metadata": {
        "id": "775e6480"
      },
      "outputs": [],
      "source": [
        "# Realizar predicción\n",
        "probability = naive_bayes.predict_proba(user_data)[0][1]"
      ]
    },
    {
      "cell_type": "code",
      "execution_count": 17,
      "id": "54109e06",
      "metadata": {
        "id": "54109e06",
        "colab": {
          "base_uri": "https://localhost:8080/"
        },
        "outputId": "ca879c4e-9128-437d-b4cc-43ad128795d0"
      },
      "outputs": [
        {
          "output_type": "stream",
          "name": "stdout",
          "text": [
            "Probabilidad de COVID-19: 13.92%\n"
          ]
        }
      ],
      "source": [
        "# Imprimir el resultado de la probabilidad\n",
        "print(\"Probabilidad de COVID-19: {:.2f}%\".format(probability * 100))"
      ]
    }
  ],
  "metadata": {
    "kernelspec": {
      "display_name": "Python 3",
      "language": "python",
      "name": "python3"
    },
    "language_info": {
      "codemirror_mode": {
        "name": "ipython",
        "version": 3
      },
      "file_extension": ".py",
      "mimetype": "text/x-python",
      "name": "python",
      "nbconvert_exporter": "python",
      "pygments_lexer": "ipython3",
      "version": "3.8.8"
    },
    "colab": {
      "provenance": []
    }
  },
  "nbformat": 4,
  "nbformat_minor": 5
}